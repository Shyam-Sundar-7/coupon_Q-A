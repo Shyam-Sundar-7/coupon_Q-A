{
 "cells": [
  {
   "cell_type": "code",
   "execution_count": 91,
   "metadata": {},
   "outputs": [],
   "source": [
    "from langchain.document_loaders import CSVLoader\n",
    "from langchain.llms import OpenAI\n",
    "from langchain.prompts import PromptTemplate\n",
    "from langchain.embeddings import OpenAIEmbeddings\n",
    "from langchain.vectorstores import FAISS\n",
    "from langchain.chains import RetrievalQA\n",
    "from dotenv import load_dotenv\n",
    "load_dotenv()\n",
    "from langchain.callbacks import StdOutCallbackHandler\n",
    "\n",
    "\n",
    "\n",
    "import os\n",
    "llm=OpenAI(temperature=0.2,api_key=os.environ[\"OPENAI_API_KEY\"])\n",
    "\n",
    "\n",
    "vectordb_file_path = \"vectordb\"\n",
    "instructor_embeddings = OpenAIEmbeddings(api_key=os.environ[\"OPENAI_API_KEY\"])\n",
    "def load_data():\n",
    "    loader = CSVLoader(file_path=\"data_2.csv\",source_column=\"Sentence\")\n",
    "    documents = loader.load()\n",
    "    # Create a FAISS instance for vector database from 'data'\n",
    "    vectordb = FAISS.from_documents(documents=documents,\n",
    "                                    embedding=instructor_embeddings)\n",
    "\n",
    "    # Save vector database locally\n",
    "    vectordb.save_local(vectordb_file_path)\n",
    "\n",
    "def get_response():\n",
    "    vectordb = FAISS.load_local(vectordb_file_path, instructor_embeddings)\n",
    "    retriever = vectordb.as_retriever(score_threshold=0.8,k=3)\n",
    "\n",
    "    prompt_template = \"\"\"Given the following context and a question, generate an answer based on this context only.\n",
    "    In the answer try to provide as much text as possible from \"response\" section in the source document context without making much changes.\n",
    "    If the answer is not found in the context, kindly state \"I don't know.\" Don't try to make up an answer.\n",
    "\n",
    "    CONTEXT: {context}\n",
    "\n",
    "    QUESTION: {question}\"\"\"\n",
    "\n",
    "    PROMPT = PromptTemplate(\n",
    "        template=prompt_template, input_variables=[\"context\", \"question\"]\n",
    "    )\n",
    "\n",
    "\n",
    "    response = RetrievalQA.from_chain_type(llm=llm, chain_type=\"stuff\", \n",
    "                                         input_key=\"query\",\n",
    "                                         retriever=retriever, return_source_documents=True,\n",
    "                                         chain_type_kwargs={\"prompt\": PROMPT},\n",
    "                                         callbacks=[StdOutCallbackHandler()],\n",
    "                                         verbose=True,\n",
    "                                         )\n",
    "\n",
    "    return response\n",
    "\n"
   ]
  },
  {
   "cell_type": "code",
   "execution_count": 39,
   "metadata": {},
   "outputs": [],
   "source": [
    "load_data()"
   ]
  },
  {
   "cell_type": "code",
   "execution_count": 92,
   "metadata": {},
   "outputs": [],
   "source": [
    "chain=get_response()"
   ]
  },
  {
   "cell_type": "code",
   "execution_count": 93,
   "metadata": {},
   "outputs": [
    {
     "name": "stdout",
     "output_type": "stream",
     "text": [
      "\n",
      "\n",
      "\u001b[1m> Entering new RetrievalQA chain...\u001b[0m\n",
      "\n",
      "\u001b[1m> Finished chain.\u001b[0m\n"
     ]
    }
   ],
   "source": [
    "out_dict=chain(\"do u have any offers in jewelry category in Cartier brand within 20 days\")"
   ]
  },
  {
   "cell_type": "code",
   "execution_count": 94,
   "metadata": {},
   "outputs": [],
   "source": [
    "result=out_dict[\"result\"]"
   ]
  },
  {
   "cell_type": "code",
   "execution_count": 95,
   "metadata": {},
   "outputs": [],
   "source": [
    "suggestions=out_dict[\"source_documents\"]"
   ]
  },
  {
   "cell_type": "code",
   "execution_count": 96,
   "metadata": {},
   "outputs": [
    {
     "data": {
      "text/plain": [
       "{'query': 'do u have any offers in jewelry category in Cartier brand within 20 days',\n",
       " 'result': '?\\n\\nYes, we have an offer in the jewelry category from Cartier brand that is expiring in 20 days. Get 20 percent off on Cartier jewelry! Hurry, limited offer - only 20 days left!',\n",
       " 'source_documents': [Document(page_content='category: jewelry\\nbrand: Cartier\\noffers: 20 percent\\nexpiring_in_days: 20\\nSentence: ðŸŒŸ Grab 20 percent off on Cartier jewelry! Limited offer, only 20 days left!', metadata={'source': 'ðŸŒŸ Grab 20 percent off on Cartier jewelry! Limited offer, only 20 days left!', 'row': 1153}),\n",
       "  Document(page_content='category: jewelry\\nbrand: Cartier\\noffers: 20 percent\\nexpiring_in_days: 28\\nSentence: ðŸŒŸ Grab 20 percent off on Cartier jewelry! Limited offer, only 28 days left!', metadata={'source': 'ðŸŒŸ Grab 20 percent off on Cartier jewelry! Limited offer, only 28 days left!', 'row': 1341}),\n",
       "  Document(page_content='category: jewelry\\nbrand: Cartier\\noffers: 20 percent\\nexpiring_in_days: 21\\nSentence: ðŸŒŸ Grab 20 percent off on Cartier jewelry! Limited offer, only 21 days left!', metadata={'source': 'ðŸŒŸ Grab 20 percent off on Cartier jewelry! Limited offer, only 21 days left!', 'row': 272}),\n",
       "  Document(page_content='category: jewelry\\nbrand: Cartier\\noffers: 20 percent\\nexpiring_in_days: 22\\nSentence: ðŸŒŸ Grab 20 percent off on Cartier jewelry! Limited offer, only 22 days left!', metadata={'source': 'ðŸŒŸ Grab 20 percent off on Cartier jewelry! Limited offer, only 22 days left!', 'row': 17})]}"
      ]
     },
     "execution_count": 96,
     "metadata": {},
     "output_type": "execute_result"
    }
   ],
   "source": [
    "out_dict"
   ]
  },
  {
   "cell_type": "code",
   "execution_count": 97,
   "metadata": {},
   "outputs": [
    {
     "data": {
      "text/plain": [
       "1153"
      ]
     },
     "execution_count": 97,
     "metadata": {},
     "output_type": "execute_result"
    }
   ],
   "source": [
    "suggestions[0].metadata[\"row\"]"
   ]
  },
  {
   "cell_type": "code",
   "execution_count": 98,
   "metadata": {},
   "outputs": [],
   "source": [
    "def getid(t):\n",
    "    return t.metadata[\"row\"]"
   ]
  },
  {
   "cell_type": "code",
   "execution_count": 103,
   "metadata": {},
   "outputs": [
    {
     "name": "stdout",
     "output_type": "stream",
     "text": [
      "\n",
      "\n",
      "\n",
      "\n",
      "\n",
      "\n",
      "\n",
      "\n"
     ]
    }
   ],
   "source": [
    "import pandas as pd\n",
    "df=pd.read_csv(\"data_2.csv\")\n",
    "\n",
    "ids=[]\n",
    "for i in suggestions:\n",
    "    ids.append(df.iloc[getid(i),-1])\n",
    "    print(\"\\n\")"
   ]
  },
  {
   "cell_type": "code",
   "execution_count": null,
   "metadata": {},
   "outputs": [],
   "source": []
  },
  {
   "cell_type": "code",
   "execution_count": 104,
   "metadata": {},
   "outputs": [],
   "source": [
    "suggestion_df=pd.DataFrame(ids)"
   ]
  },
  {
   "cell_type": "code",
   "execution_count": 105,
   "metadata": {},
   "outputs": [
    {
     "data": {
      "text/plain": [
       "'?\\n\\nYes, we have an offer in the jewelry category from Cartier brand that is expiring in 20 days. Get 20 percent off on Cartier jewelry! Hurry, limited offer - only 20 days left!'"
      ]
     },
     "execution_count": 105,
     "metadata": {},
     "output_type": "execute_result"
    }
   ],
   "source": [
    "result"
   ]
  },
  {
   "cell_type": "code",
   "execution_count": 106,
   "metadata": {},
   "outputs": [
    {
     "data": {
      "text/html": [
       "<div>\n",
       "<style scoped>\n",
       "    .dataframe tbody tr th:only-of-type {\n",
       "        vertical-align: middle;\n",
       "    }\n",
       "\n",
       "    .dataframe tbody tr th {\n",
       "        vertical-align: top;\n",
       "    }\n",
       "\n",
       "    .dataframe thead th {\n",
       "        text-align: right;\n",
       "    }\n",
       "</style>\n",
       "<table border=\"1\" class=\"dataframe\">\n",
       "  <thead>\n",
       "    <tr style=\"text-align: right;\">\n",
       "      <th></th>\n",
       "      <th>0</th>\n",
       "    </tr>\n",
       "  </thead>\n",
       "  <tbody>\n",
       "    <tr>\n",
       "      <th>0</th>\n",
       "      <td>🌟 Grab 20 percent off on Cartier jewelry! Limi...</td>\n",
       "    </tr>\n",
       "    <tr>\n",
       "      <th>1</th>\n",
       "      <td>🌟 Grab 20 percent off on Cartier jewelry! Limi...</td>\n",
       "    </tr>\n",
       "    <tr>\n",
       "      <th>2</th>\n",
       "      <td>🌟 Grab 20 percent off on Cartier jewelry! Limi...</td>\n",
       "    </tr>\n",
       "    <tr>\n",
       "      <th>3</th>\n",
       "      <td>🌟 Grab 20 percent off on Cartier jewelry! Limi...</td>\n",
       "    </tr>\n",
       "  </tbody>\n",
       "</table>\n",
       "</div>"
      ],
      "text/plain": [
       "                                                   0\n",
       "0  🌟 Grab 20 percent off on Cartier jewelry! Limi...\n",
       "1  🌟 Grab 20 percent off on Cartier jewelry! Limi...\n",
       "2  🌟 Grab 20 percent off on Cartier jewelry! Limi...\n",
       "3  🌟 Grab 20 percent off on Cartier jewelry! Limi..."
      ]
     },
     "execution_count": 106,
     "metadata": {},
     "output_type": "execute_result"
    }
   ],
   "source": [
    "suggestion_df.head()"
   ]
  },
  {
   "cell_type": "code",
   "execution_count": null,
   "metadata": {},
   "outputs": [],
   "source": []
  }
 ],
 "metadata": {
  "kernelspec": {
   "display_name": ".venv",
   "language": "python",
   "name": "python3"
  },
  "language_info": {
   "codemirror_mode": {
    "name": "ipython",
    "version": 3
   },
   "file_extension": ".py",
   "mimetype": "text/x-python",
   "name": "python",
   "nbconvert_exporter": "python",
   "pygments_lexer": "ipython3",
   "version": "3.11.6"
  }
 },
 "nbformat": 4,
 "nbformat_minor": 2
}
